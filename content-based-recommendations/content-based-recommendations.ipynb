{
 "cells": [
  {
   "cell_type": "markdown",
   "metadata": {},
   "source": [
    "## Загружаем необходимые библиотеки"
   ]
  },
  {
   "cell_type": "code",
   "execution_count": null,
   "metadata": {
    "id": "5-cwilWz5hV3"
   },
   "outputs": [],
   "source": [
    "import pandas as pd\n",
    "import numpy as np\n",
    "from collections import Counter\n",
    "from datetime import datetime\n",
    "from tqdm.notebook import tqdm\n",
    "import matplotlib.pyplot as plt"
   ]
  },
  {
   "cell_type": "markdown",
   "metadata": {},
   "source": [
    "## Загружаем данные\n",
    "\n",
    "Собраны данные:\n",
    "\n",
    "ratings\n",
    "- rating: рейтинг фильма\n",
    "\n",
    "movies\n",
    "- title: название фильма\n",
    "- genres: жанры\n",
    "\n",
    "tags\n",
    "- tag: теги\n"
   ]
  },
  {
   "cell_type": "code",
   "execution_count": null,
   "metadata": {
    "id": "Q2VYhlBJ5tOq"
   },
   "outputs": [],
   "source": [
    "links = pd.read_csv('links.csv')\n",
    "movies = pd.read_csv('movies.csv')\n",
    "ratings = pd.read_csv('ratings.csv')\n",
    "tags = pd.read_csv('tags.csv')"
   ]
  },
  {
   "cell_type": "markdown",
   "metadata": {
    "id": "zrG8-Z3D6DVk"
   },
   "source": [
    "Построим рекомендации (регрессию, предскажем оценку) на фичах:\n",
    "- TF-IDF на тегах и жанрах;\n",
    "- средние оценки пользователя и фильма."
   ]
  },
  {
   "cell_type": "code",
   "execution_count": null,
   "metadata": {
    "colab": {
     "base_uri": "https://localhost:8080/",
     "height": 206
    },
    "id": "09NRVxIz6HFh",
    "outputId": "9bd8d236-d169-4dee-f3d9-8e598520178b"
   },
   "outputs": [],
   "source": [
    "ratings.head()"
   ]
  },
  {
   "cell_type": "code",
   "execution_count": null,
   "metadata": {},
   "outputs": [],
   "source": [
    "links.head()"
   ]
  },
  {
   "cell_type": "code",
   "execution_count": null,
   "metadata": {
    "colab": {
     "base_uri": "https://localhost:8080/",
     "height": 206
    },
    "id": "itFSVbVv-skC",
    "outputId": "b4ed16e5-324a-4ea1-c1a7-05bcdb12d71b"
   },
   "outputs": [],
   "source": [
    "movies.head()"
   ]
  },
  {
   "cell_type": "code",
   "execution_count": null,
   "metadata": {
    "colab": {
     "base_uri": "https://localhost:8080/",
     "height": 206
    },
    "id": "Zv6bwAs36L4v",
    "outputId": "d087aac3-0527-4019-a77d-3a20299cf8ad"
   },
   "outputs": [],
   "source": [
    "tags.head()"
   ]
  },
  {
   "cell_type": "code",
   "execution_count": null,
   "metadata": {
    "id": "MCqJrGvN6iPh"
   },
   "outputs": [],
   "source": [
    "from sklearn.feature_extraction.text import TfidfVectorizer\n",
    "from sklearn.neighbors import NearestNeighbors"
   ]
  },
  {
   "cell_type": "code",
   "execution_count": null,
   "metadata": {
    "id": "yGd1KLKY7Bcj"
   },
   "outputs": [],
   "source": [
    "def change_string(s):\n",
    "    return s.replace(' ', '').replace('-', '')"
   ]
  },
  {
   "cell_type": "code",
   "execution_count": null,
   "metadata": {
    "colab": {
     "base_uri": "https://localhost:8080/"
    },
    "id": "6lx8i8vh7Gn0",
    "outputId": "617b63d8-6609-458c-c3ad-1fdbcaf3e932"
   },
   "outputs": [],
   "source": [
    "movie_genres = [change_string(g) for g in movies.genres.values]\n",
    "movie_genres[:10]"
   ]
  },
  {
   "cell_type": "code",
   "execution_count": null,
   "metadata": {
    "colab": {
     "base_uri": "https://localhost:8080/"
    },
    "id": "SempA3mP7JR4",
    "outputId": "48bd267b-df08-4495-9db1-55261f6b8c07"
   },
   "outputs": [],
   "source": [
    "tfidf_genres = TfidfVectorizer()\n",
    "X_genres = tfidf_genres.fit_transform(movie_genres)\n",
    "X_genres"
   ]
  },
  {
   "cell_type": "code",
   "execution_count": null,
   "metadata": {
    "colab": {
     "base_uri": "https://localhost:8080/"
    },
    "id": "HDNLncMj9pyg",
    "outputId": "5431eb30-9843-48f9-9c5a-5980d4ed842d"
   },
   "outputs": [],
   "source": [
    "tfidf_genres.get_feature_names_out()"
   ]
  },
  {
   "cell_type": "code",
   "execution_count": null,
   "metadata": {
    "colab": {
     "base_uri": "https://localhost:8080/",
     "height": 444
    },
    "id": "NPVutBUr970D",
    "outputId": "08d25d0c-7112-4316-a98a-9e9ec3a0c872"
   },
   "outputs": [],
   "source": [
    "pd.DataFrame(X_genres.toarray(), columns=tfidf_genres.get_feature_names_out())"
   ]
  },
  {
   "cell_type": "code",
   "execution_count": null,
   "metadata": {
    "id": "upFM7XV3-VoP"
   },
   "outputs": [],
   "source": [
    "def change_string_tags(s):\n",
    "    return s.replace('-', '')"
   ]
  },
  {
   "cell_type": "code",
   "execution_count": null,
   "metadata": {
    "colab": {
     "base_uri": "https://localhost:8080/",
     "height": 206
    },
    "id": "Cg3vAdpE-_NN",
    "outputId": "241cdbe4-bd34-44fc-9121-ad6816d65486"
   },
   "outputs": [],
   "source": [
    "movies_with_tags = movies.merge(tags, on='movieId')\n",
    "movies_with_tags.head()"
   ]
  },
  {
   "cell_type": "code",
   "execution_count": null,
   "metadata": {
    "colab": {
     "base_uri": "https://localhost:8080/"
    },
    "id": "ixKf7BWx_ONY",
    "outputId": "a529841b-75cb-4cb6-f47c-ba07e90ddab6"
   },
   "outputs": [],
   "source": [
    "movies_with_tags.tag.unique()"
   ]
  },
  {
   "cell_type": "code",
   "execution_count": null,
   "metadata": {
    "id": "UWIw_hHv_S9G"
   },
   "outputs": [],
   "source": [
    "movies_with_tags.dropna(inplace=True)"
   ]
  },
  {
   "cell_type": "code",
   "execution_count": null,
   "metadata": {
    "colab": {
     "base_uri": "https://localhost:8080/"
    },
    "id": "H1kmKkOP_Uxg",
    "outputId": "cc9249c2-a04c-4f54-c416-a6dc08f1812c"
   },
   "outputs": [],
   "source": [
    "movies_with_tags.title.unique().shape"
   ]
  },
  {
   "cell_type": "code",
   "execution_count": null,
   "metadata": {
    "colab": {
     "base_uri": "https://localhost:8080/",
     "height": 49,
     "referenced_widgets": [
      "f2736a7f8e3a4a3ba386c07ab76a10b7",
      "5638042624594ff1aa84b7f56ddb53ab",
      "3b60eded24a2413faa58e397d50d94cc",
      "f448ce50c06a4def95839f10de8730c0",
      "bdee82888efb414aa93d94aba3583cf3",
      "66a0c926718d4ad1a2c92cc43aaa79d4",
      "5916c61c67cd4c4c9f712e02b0c64764",
      "a4c265ecda284f5488e93e5a726facb0",
      "be2fb089e7cc45eb9d2045ab4295f52b",
      "cc24b8ff81aa4647af9a8449c371542b",
      "0c63a2818fc74c5aa8d980bb7508316c"
     ]
    },
    "id": "_Rbo9w15-cvN",
    "outputId": "956d5900-c85f-443c-f30d-d1b8c899f396"
   },
   "outputs": [],
   "source": [
    "tag_strings = []\n",
    "movies_strings = []\n",
    "\n",
    "for movie, group in tqdm(movies_with_tags.groupby('title')):\n",
    "    tag_strings.append(' '.join([change_string_tags(s) for s in group.tag.values]))\n",
    "    movies_strings.append(movie)"
   ]
  },
  {
   "cell_type": "code",
   "execution_count": null,
   "metadata": {
    "id": "RgOuVS0pAXa8"
   },
   "outputs": [],
   "source": [
    "tfidf_tags = TfidfVectorizer()\n",
    "X_tags = tfidf_tags.fit_transform(tag_strings)"
   ]
  },
  {
   "cell_type": "code",
   "execution_count": null,
   "metadata": {
    "id": "yEXYteHJCBuh"
   },
   "outputs": [],
   "source": [
    "movie_means = ratings.groupby('movieId')['rating'].mean().reset_index()\n",
    "movie_means.rename(columns={'rating': 'movie_mean'}, inplace=True)"
   ]
  },
  {
   "cell_type": "code",
   "execution_count": null,
   "metadata": {
    "id": "s3qsfF4LCEJ_"
   },
   "outputs": [],
   "source": [
    "user_means = ratings.groupby('userId')['rating'].mean().reset_index()\n",
    "user_means.rename(columns={'rating': 'user_mean'}, inplace=True)"
   ]
  },
  {
   "cell_type": "code",
   "execution_count": null,
   "metadata": {
    "colab": {
     "base_uri": "https://localhost:8080/",
     "height": 206
    },
    "id": "ZpmnQHT5COXF",
    "outputId": "68247e2c-bd47-4eb9-ae08-e8ad1feab86b"
   },
   "outputs": [],
   "source": [
    "data = movies_with_tags.merge(movie_means, on='movieId')\n",
    "data.head()"
   ]
  },
  {
   "cell_type": "code",
   "execution_count": null,
   "metadata": {
    "colab": {
     "base_uri": "https://localhost:8080/",
     "height": 206
    },
    "id": "JmaO2c5iCSzh",
    "outputId": "ee4d0f05-40d7-4465-ec32-9cd36bca1892"
   },
   "outputs": [],
   "source": [
    "data = data.merge(user_means, on='userId')\n",
    "data.head()"
   ]
  },
  {
   "cell_type": "code",
   "execution_count": null,
   "metadata": {
    "colab": {
     "base_uri": "https://localhost:8080/",
     "height": 258
    },
    "id": "iHbBSIi0GAXS",
    "outputId": "d31fd8ae-e26a-4033-db85-9ee0e02ade6b"
   },
   "outputs": [],
   "source": [
    "X_genres_df = pd.DataFrame(X_genres.toarray(), index=movies['movieId'])\n",
    "X_genres_df.head()\n"
   ]
  },
  {
   "cell_type": "code",
   "execution_count": null,
   "metadata": {
    "id": "GLUL54V2J9LB"
   },
   "outputs": [],
   "source": [
    "movies_tags_grouped = tags.groupby('movieId')['tag'].apply(lambda x: ' '.join([change_string_tags(t) for t in x])).reset_index()"
   ]
  },
  {
   "cell_type": "code",
   "execution_count": null,
   "metadata": {
    "id": "XA4D-397KjgL"
   },
   "outputs": [],
   "source": [
    "tfidf_tags = TfidfVectorizer()\n",
    "X_tags = tfidf_tags.fit_transform(movies_tags_grouped['tag'])"
   ]
  },
  {
   "cell_type": "code",
   "execution_count": null,
   "metadata": {
    "colab": {
     "base_uri": "https://localhost:8080/",
     "height": 236
    },
    "id": "OjhCzQCOKlAG",
    "outputId": "18d4b3af-35af-421e-af76-b03ccd7f6796"
   },
   "outputs": [],
   "source": [
    "X_tags_df = pd.DataFrame(X_tags.toarray(), index=movies_tags_grouped['movieId'].values)\n",
    "X_tags_df.head()"
   ]
  },
  {
   "cell_type": "code",
   "execution_count": null,
   "metadata": {
    "colab": {
     "base_uri": "https://localhost:8080/",
     "height": 412
    },
    "id": "rqWnLIgsKudj",
    "outputId": "9ebd6871-34a8-42c3-b23b-f5ef4846d586"
   },
   "outputs": [],
   "source": [
    "data = data.merge(X_genres_df, left_on='movieId', right_index=True)\n",
    "data = data.merge(X_tags_df, left_on='movieId', right_index=True)\n",
    "data.head()"
   ]
  },
  {
   "cell_type": "code",
   "execution_count": null,
   "metadata": {
    "colab": {
     "base_uri": "https://localhost:8080/",
     "height": 256
    },
    "id": "6RRqW52nK511",
    "outputId": "ca95d04f-f0c1-41d9-9110-6c9ce00cbcee"
   },
   "outputs": [],
   "source": [
    "data_for_model = ratings.merge(data, on=['userId','movieId'], how='left')\n",
    "\n",
    "X = data_for_model.drop(columns=['rating', 'timestamp', 'title', 'genres', 'tag'], errors='ignore')\n",
    "y = data_for_model['rating']\n",
    "\n",
    "data_for_model.head()"
   ]
  },
  {
   "cell_type": "code",
   "execution_count": null,
   "metadata": {
    "id": "V_qe6OL8LKDT"
   },
   "outputs": [],
   "source": [
    "from sklearn.model_selection import train_test_split\n",
    "X_train, X_test, y_train, y_test = train_test_split(X, y, test_size=0.2, random_state=42)"
   ]
  },
  {
   "cell_type": "code",
   "execution_count": null,
   "metadata": {
    "id": "7YM3czmTRqi9"
   },
   "outputs": [],
   "source": [
    "X_train.columns = X_train.columns.astype(str)\n",
    "X_test.columns = X_test.columns.astype(str)"
   ]
  },
  {
   "cell_type": "code",
   "execution_count": null,
   "metadata": {
    "colab": {
     "base_uri": "https://localhost:8080/",
     "height": 80
    },
    "id": "0Wwyp96KMfpV",
    "outputId": "40b3bc66-9e0e-4bbd-9df1-d70ced95fcb1"
   },
   "outputs": [],
   "source": [
    "from sklearn.metrics import mean_squared_error\n",
    "from sklearn.ensemble import HistGradientBoostingRegressor #работает с Nan\n",
    "\n",
    "model = HistGradientBoostingRegressor(max_iter=50, max_depth=5, learning_rate=0.1, random_state=42)\n",
    "model.fit(X_train, y_train)"
   ]
  },
  {
   "cell_type": "code",
   "execution_count": null,
   "metadata": {
    "id": "aYen0ppIQZgW"
   },
   "outputs": [],
   "source": [
    "#RMSE на тестовой выборке\n",
    "preds = model.predict(X_test)\n",
    "rmse = np.sqrt(mean_squared_error(y_test, preds))\n",
    "\n",
    "print('RMSE модели:', rmse)\n",
    "print(\"Вывод: модель предсказывает рейтинги фильмов с ошибкой примерно ±1 балл на шкале от 0.5 до 5.0. Это приемлемый результат.\\nДля реального использования рекомендаций этого часто достаточно, потому что пользователю важен ранжированный список фильмов, а не точность конкретной цифры рейтинга.\")\n"
   ]
  },
  {
   "cell_type": "code",
   "execution_count": null,
   "metadata": {},
   "outputs": [],
   "source": [
    "#Функция для рекомендации похожего фильма - content-based рекомендация\n",
    "from sklearn.metrics.pairwise import cosine_similarity\n",
    "\n",
    "cosine_sim = cosine_similarity(X_genres, X_genres)\n",
    "\n",
    "def get_recommendations(title, cosine_sim, movies_df, top_n=5):\n",
    "    # Индекс фильма\n",
    "    idx = movies_df[movies_df['title'] == title].index[0]\n",
    "    sim_scores = list(enumerate(cosine_sim[idx]))\n",
    "    sim_scores = sorted(sim_scores, key=lambda x: x[1], reverse=True)\n",
    "    sim_scores = sim_scores[1:top_n+1]\n",
    "    movie_indices = [i[0] for i in sim_scores]\n",
    "    \n",
    "    return movies_df['title'].iloc[movie_indices]\n",
    "\n",
    "print(\"Рекомендованные фильмы (похожие) для тех кто смотрел фильм Matrix, The (1999):\\n\")\n",
    "print(get_recommendations(\"Matrix, The (1999)\", cosine_sim, movies))\n"
   ]
  }
 ],
 "metadata": {
  "colab": {
   "provenance": []
  },
  "kernelspec": {
   "display_name": ".venv",
   "language": "python",
   "name": "python3"
  },
  "language_info": {
   "codemirror_mode": {
    "name": "ipython",
    "version": 3
   },
   "file_extension": ".py",
   "mimetype": "text/x-python",
   "name": "python",
   "nbconvert_exporter": "python",
   "pygments_lexer": "ipython3",
   "version": "3.13.7"
  }
 },
 "nbformat": 4,
 "nbformat_minor": 0
}
