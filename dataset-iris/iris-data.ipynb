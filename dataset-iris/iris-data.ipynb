{
 "cells": [
  {
   "cell_type": "code",
   "execution_count": null,
   "metadata": {},
   "outputs": [],
   "source": [
    "!apt-get update"
   ]
  },
  {
   "cell_type": "code",
   "execution_count": null,
   "metadata": {
    "id": "1HyDmS5WduU3"
   },
   "outputs": [],
   "source": [
    "!apt-get install openjdk-17-jdk-headless -qq > /dev/null"
   ]
  },
  {
   "cell_type": "code",
   "execution_count": null,
   "metadata": {
    "id": "9yRaYSD6dux4"
   },
   "outputs": [],
   "source": [
    "!wget -q https://downloads.apache.org/spark/spark-4.0.1/spark-4.0.1-bin-hadoop3.tgz"
   ]
  },
  {
   "cell_type": "code",
   "execution_count": null,
   "metadata": {
    "colab": {
     "base_uri": "https://localhost:8080/"
    },
    "id": "Z2MaC-k0dx8l",
    "outputId": "0f553ebd-8f03-4340-c071-ce25b7f53ab6"
   },
   "outputs": [],
   "source": [
    "!tar -xvf spark-4.0.1-bin-hadoop3.tgz"
   ]
  },
  {
   "cell_type": "code",
   "execution_count": null,
   "metadata": {
    "id": "-FU66EXfd1Rl"
   },
   "outputs": [],
   "source": [
    "#!pip install -q findspark"
   ]
  },
  {
   "cell_type": "code",
   "execution_count": null,
   "metadata": {
    "id": "jB-CCdMzd5GZ"
   },
   "outputs": [],
   "source": [
    "import os\n",
    "os.environ[\"JAVA_HOME\"] = \"/usr/local/opt/openjdk@17/libexec/openjdk.jdk/Contents/Home\"\n",
    "os.environ[\"SPARK_HOME\"] = \"/Users/mariabelakova/Documents/учеба/projects-Data-Engineer/spark-4.0.1-bin-hadoop3\""
   ]
  },
  {
   "cell_type": "code",
   "execution_count": null,
   "metadata": {
    "id": "OERndGb_d8zg"
   },
   "outputs": [],
   "source": [
    "import findspark\n",
    "findspark.init()\n",
    "from pyspark.sql import SparkSession\n",
    "\n",
    "spark = SparkSession.builder.master(\"local[*]\").getOrCreate()"
   ]
  },
  {
   "cell_type": "code",
   "execution_count": null,
   "metadata": {
    "id": "cMlZaYVK7A-x"
   },
   "outputs": [],
   "source": [
    "df_iris = spark.read.csv('iris.csv', inferSchema=True, header=True)"
   ]
  },
  {
   "cell_type": "code",
   "execution_count": null,
   "metadata": {
    "colab": {
     "base_uri": "https://localhost:8080/"
    },
    "id": "BegZo0dTf2tq",
    "outputId": "79461d48-8418-4772-ffc3-8f51d78a1f27"
   },
   "outputs": [],
   "source": [
    "df_iris.describe().show()"
   ]
  },
  {
   "cell_type": "code",
   "execution_count": null,
   "metadata": {
    "id": "qurFUB_C8HW5"
   },
   "outputs": [],
   "source": [
    "from pyspark.ml.feature import StringIndexer, OneHotEncoder"
   ]
  },
  {
   "cell_type": "code",
   "execution_count": null,
   "metadata": {
    "id": "YSwI1WwYRpdz"
   },
   "outputs": [],
   "source": [
    "ohe = OneHotEncoder(inputCol='variety_num', outputCol='varietyOhe')"
   ]
  },
  {
   "cell_type": "code",
   "execution_count": null,
   "metadata": {
    "id": "zQRq38tOX1Aw"
   },
   "outputs": [],
   "source": [
    "model = ohe.fit(df_iris)"
   ]
  },
  {
   "cell_type": "code",
   "execution_count": null,
   "metadata": {
    "id": "wCKanXZJR7a7"
   },
   "outputs": [],
   "source": [
    "df_iris_1 = model.transform(df_iris)"
   ]
  },
  {
   "cell_type": "code",
   "execution_count": null,
   "metadata": {
    "colab": {
     "base_uri": "https://localhost:8080/"
    },
    "id": "5XhO6x0n9g4s",
    "outputId": "1962833b-84c0-434e-e9d7-72022aebcae8"
   },
   "outputs": [],
   "source": [
    "df_iris_1.show()"
   ]
  },
  {
   "cell_type": "code",
   "execution_count": null,
   "metadata": {
    "id": "m-8QnsaSI0ub"
   },
   "outputs": [],
   "source": [
    "from pyspark.ml.linalg import Vectors\n",
    "from pyspark.ml.feature import VectorAssembler"
   ]
  },
  {
   "cell_type": "code",
   "execution_count": null,
   "metadata": {
    "colab": {
     "base_uri": "https://localhost:8080/"
    },
    "id": "4nSgZ2AKWiVk",
    "outputId": "c15b12b5-f906-4d9a-e62f-4d40d7414864"
   },
   "outputs": [],
   "source": [
    "df_iris_1.show()"
   ]
  },
  {
   "cell_type": "code",
   "execution_count": null,
   "metadata": {
    "colab": {
     "base_uri": "https://localhost:8080/"
    },
    "id": "VJcLCkkHXBZD",
    "outputId": "8500d91c-daff-48af-88b6-4a99bba9bfee"
   },
   "outputs": [],
   "source": [
    "df_iris_1.columns"
   ]
  },
  {
   "cell_type": "code",
   "execution_count": null,
   "metadata": {
    "id": "W7VpjK2MWqJB"
   },
   "outputs": [],
   "source": [
    "assembler = VectorAssembler(inputCols=['sepal_length', 'sepal_width', 'petal_length', 'petal_width'], outputCol='Features')"
   ]
  },
  {
   "cell_type": "code",
   "execution_count": null,
   "metadata": {
    "id": "RcVLMGYSWqW_"
   },
   "outputs": [],
   "source": [
    "df_iris_1 = assembler.transform(df_iris_1)"
   ]
  },
  {
   "cell_type": "code",
   "execution_count": null,
   "metadata": {
    "colab": {
     "base_uri": "https://localhost:8080/"
    },
    "id": "EFpTG9MwWqbe",
    "outputId": "936d2b9b-e5aa-428b-ebbf-3795a05b1bb9"
   },
   "outputs": [],
   "source": [
    "df_iris_1.show()"
   ]
  },
  {
   "cell_type": "markdown",
   "metadata": {
    "id": "ufmJHf6eDeb2"
   },
   "source": [
    "Или получим все колонки др способом через Pipeline\n",
    "\n"
   ]
  },
  {
   "cell_type": "code",
   "execution_count": null,
   "metadata": {
    "id": "bjGKze4JCohS"
   },
   "outputs": [],
   "source": [
    "from pyspark.ml import Pipeline"
   ]
  },
  {
   "cell_type": "code",
   "execution_count": null,
   "metadata": {
    "id": "KK30QQ_dD6Yk"
   },
   "outputs": [],
   "source": [
    "pipeline = Pipeline(stages =\n",
    "[\n",
    "  OneHotEncoder(inputCol='variety_num', outputCol='varietyOhe'),\n",
    "  VectorAssembler(inputCols=['sepal_length', 'sepal_width', 'petal_length', 'petal_width', 'variety_num', 'varietyOhe'], outputCol='Features')\n",
    "]\n",
    ")"
   ]
  },
  {
   "cell_type": "code",
   "execution_count": null,
   "metadata": {
    "id": "t7MVk__REPdt"
   },
   "outputs": [],
   "source": [
    "pipelineTrained = pipeline.fit(df_iris)"
   ]
  },
  {
   "cell_type": "code",
   "execution_count": null,
   "metadata": {
    "colab": {
     "base_uri": "https://localhost:8080/"
    },
    "id": "VJTAvFvrET6a",
    "outputId": "ec0d227e-f4c5-4632-c9d2-59dd7eeb1444"
   },
   "outputs": [],
   "source": [
    "pipelineTrained.transform(df_iris).show()"
   ]
  },
  {
   "cell_type": "code",
   "execution_count": null,
   "metadata": {
    "id": "VVYM-T_wFVDX"
   },
   "outputs": [],
   "source": [
    "df_iris_2 = pipelineTrained.transform(df_iris)"
   ]
  },
  {
   "cell_type": "code",
   "execution_count": null,
   "metadata": {
    "colab": {
     "base_uri": "https://localhost:8080/"
    },
    "id": "flrXmZiZUSBR",
    "outputId": "50b5992e-6b7b-4068-dd56-9cfad0c9eb12"
   },
   "outputs": [],
   "source": [
    "df_iris_2.show()"
   ]
  },
  {
   "cell_type": "code",
   "execution_count": null,
   "metadata": {
    "colab": {
     "base_uri": "https://localhost:8080/"
    },
    "id": "hwYLxpKDDGV-",
    "outputId": "94f5f598-a351-4a14-aa4f-c4a638bad30f"
   },
   "outputs": [],
   "source": [
    "df_iris.show()"
   ]
  },
  {
   "cell_type": "code",
   "execution_count": null,
   "metadata": {
    "id": "Hj9FZxr-EXi0"
   },
   "outputs": [],
   "source": [
    "train, test = df_iris_1.randomSplit([0.8, 0.2], seed=12345)"
   ]
  },
  {
   "cell_type": "code",
   "execution_count": null,
   "metadata": {
    "colab": {
     "base_uri": "https://localhost:8080/"
    },
    "id": "Rq_EQCXVFRJ3",
    "outputId": "ef62ed86-b8b5-42a1-b91a-bcdcd33f21e3"
   },
   "outputs": [],
   "source": [
    "train.show()"
   ]
  },
  {
   "cell_type": "markdown",
   "metadata": {
    "id": "qjiImzktE3Rx"
   },
   "source": [
    "## Создадим модель логистической регреcсии и обучим её."
   ]
  },
  {
   "cell_type": "code",
   "execution_count": null,
   "metadata": {
    "id": "4QIgYk9VE1Ug"
   },
   "outputs": [],
   "source": [
    "from pyspark.ml.classification import LogisticRegression"
   ]
  },
  {
   "cell_type": "code",
   "execution_count": null,
   "metadata": {
    "id": "DBcOuTtFFApc"
   },
   "outputs": [],
   "source": [
    "lr = LogisticRegression(featuresCol = 'Features', labelCol = 'variety_num', maxIter=100)\n",
    "lrModel = lr.fit(train)"
   ]
  },
  {
   "cell_type": "code",
   "execution_count": null,
   "metadata": {
    "id": "tr9NN0dpFNTq"
   },
   "outputs": [],
   "source": [
    "train_res = lrModel.transform(train)\n",
    "test_res = lrModel.transform(test)"
   ]
  },
  {
   "cell_type": "code",
   "execution_count": null,
   "metadata": {
    "colab": {
     "base_uri": "https://localhost:8080/"
    },
    "id": "I-E255CQFnU6",
    "outputId": "a830f6a8-5ddd-4484-a31a-ae0be4c11421"
   },
   "outputs": [],
   "source": [
    "train_res.show()"
   ]
  },
  {
   "cell_type": "markdown",
   "metadata": {
    "id": "WlJPPs4rFrwv"
   },
   "source": [
    "Воспользуемся MulticlassClassificationEvaluator для оценки качества на train и test множестве."
   ]
  },
  {
   "cell_type": "code",
   "execution_count": null,
   "metadata": {
    "id": "HlxLMOYAFpNt"
   },
   "outputs": [],
   "source": [
    "from pyspark.ml.evaluation import MulticlassClassificationEvaluator"
   ]
  },
  {
   "cell_type": "code",
   "execution_count": null,
   "metadata": {
    "id": "6kDkBr1jGtv6"
   },
   "outputs": [],
   "source": [
    "ev = MulticlassClassificationEvaluator(labelCol='variety_num', predictionCol='prediction', metricName='accuracy')"
   ]
  },
  {
   "cell_type": "code",
   "execution_count": null,
   "metadata": {
    "colab": {
     "base_uri": "https://localhost:8080/"
    },
    "id": "Yf1m2YR3G1oC",
    "outputId": "2109db57-fb85-451f-9075-8cf67d37d593"
   },
   "outputs": [],
   "source": [
    "accuracy_train = ev.evaluate(train_res)\n",
    "accuracy_test = ev.evaluate(test_res)\n",
    "\n",
    "print(f\"Train accuracy: {accuracy_train:.3f}\")\n",
    "print(f\"Test accuracy: {accuracy_test:.3f}\")"
   ]
  },
  {
   "cell_type": "markdown",
   "metadata": {},
   "source": [
    "## Выводы\n",
    "\n",
    "- Модель хорошо обучена\n",
    "- Очень высокая точность на тренировке показывает, что признаки (длина и ширина чашелистика и лепестка) позволяют эффективно различать классы ирисов.\n",
    "- Нет признаков переобучения\n",
    "- Если бы точность на тренировке была сильно выше, чем на тесте, это сигнал переобучения. Здесь тестовая точность даже 100%, значит модель хорошо обобщает.\n",
    "- Iris dataset небольшой (150 записей, 3 класса) и линейно разделимый. Поэтому логистическая регрессия показывает почти идеальные результаты.\n",
    "- Модель подходит для данной задачи\n",
    "- Можно использовать такую модель для классификации ирисов на основе этих 4 признаков без дополнительной настройки."
   ]
  },
  {
   "cell_type": "markdown",
   "metadata": {},
   "source": [
    "# Итог\n",
    "Модель логистической регрессии на признаках длины и ширины чашелистика и лепестка очень эффективно классифицирует ирисы. Переобучения нет, модель хорошо обобщает на тестовой выборке."
   ]
  }
 ],
 "metadata": {
  "colab": {
   "provenance": []
  },
  "kernelspec": {
   "display_name": ".venv",
   "language": "python",
   "name": "python3"
  },
  "language_info": {
   "codemirror_mode": {
    "name": "ipython",
    "version": 3
   },
   "file_extension": ".py",
   "mimetype": "text/x-python",
   "name": "python",
   "nbconvert_exporter": "python",
   "pygments_lexer": "ipython3",
   "version": "3.13.7"
  }
 },
 "nbformat": 4,
 "nbformat_minor": 0
}
